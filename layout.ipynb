{
 "cells": [
  {
   "cell_type": "markdown",
   "id": "727ae1fc",
   "metadata": {},
   "source": [
    "# lets start"
   ]
  },
  {
   "cell_type": "code",
   "execution_count": null,
   "id": "225ab754",
   "metadata": {},
   "outputs": [],
   "source": [
    "q1=\"\""
   ]
  }
 ],
 "metadata": {
  "kernelspec": {
   "display_name": "Python 3",
   "language": "python",
   "name": "python3"
  },
  "language_info": {
   "codemirror_mode": {
    "name": "ipython",
    "version": 3
   },
   "file_extension": ".py",
   "mimetype": "text/x-python",
   "name": "python",
   "nbconvert_exporter": "python",
   "pygments_lexer": "ipython3",
   "version": "3.8.8"
  }
 },
 "nbformat": 4,
 "nbformat_minor": 5
}
